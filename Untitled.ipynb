{
 "cells": [
  {
   "cell_type": "code",
   "execution_count": 29,
   "metadata": {
    "collapsed": true
   },
   "outputs": [],
   "source": [
    "def decode(s):\n",
    "    look = \"ABCDEFGHIJKLMNOPQRSTUVWXYZabcdefghijklmnopqrstuvwxyz0123456789+/\"\n",
    "    ret = \"\"\n",
    "    left = 0\n",
    "    for i in range(0, len(s)):\n",
    "        if left == 0:\n",
    "            left = 6\n",
    "        else:\n",
    "            value1 = look.index(s[i - 1]) & (2 ** left - 1)\n",
    "            value2 = look.index(s[i]) >> (left - 2)\n",
    "            value = (value1 << (8 - left)) | value2\n",
    "            ret += chr(value)\n",
    "            left -= 2\n",
    "    return ret\n"
   ]
  },
  {
   "cell_type": "code",
   "execution_count": 30,
   "metadata": {
    "collapsed": false
   },
   "outputs": [
    {
     "data": {
      "text/plain": [
       "'cross and black buck thirteen program analysis open the door012345'"
      ]
     },
     "execution_count": 30,
     "metadata": {},
     "output_type": "execute_result"
    }
   ],
   "source": [
    "s1 = \"Y3Jvc3MgYW5kIGJsYWNrIGJ1Y2sgdGhpcnRlZW4gcHJvZ3JhbSBhbmFseXNpcyBvcGVuIHRoZSBkb29yMDEyMzQ1\"\n",
    "decode(s1)"
   ]
  },
  {
   "cell_type": "code",
   "execution_count": null,
   "metadata": {
    "collapsed": true
   },
   "outputs": [],
   "source": []
  }
 ],
 "metadata": {
  "kernelspec": {
   "display_name": "Python 2",
   "language": "python",
   "name": "python2"
  },
  "language_info": {
   "codemirror_mode": {
    "name": "ipython",
    "version": 2
   },
   "file_extension": ".py",
   "mimetype": "text/x-python",
   "name": "python",
   "nbconvert_exporter": "python",
   "pygments_lexer": "ipython2",
   "version": "2.7.11"
  }
 },
 "nbformat": 4,
 "nbformat_minor": 0
}
