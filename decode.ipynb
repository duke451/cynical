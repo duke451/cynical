{
 "cells": [
  {
   "cell_type": "code",
   "execution_count": 4,
   "metadata": {
    "collapsed": true
   },
   "outputs": [],
   "source": [
    "def decode(encoded):\n",
    "    look = \"ABCDEFGHIJKLMNOPQRSTUVWXYZabcdefghijklmnopqrstuvwxyz0123456789+/\"\n",
    "    text = \"\"\n",
    "    bits = 0\n",
    "    for i in range(0, len(encoded)):\n",
    "        if bits == 0:\n",
    "            bits = 6\n",
    "        else:\n",
    "            out1 = look.index(encoded[i - 1]) & ((1<<bits)-1)\n",
    "            out2 = look.index(encoded[i]) >> (bits - 2)\n",
    "            out3 = (out1 << (8 - bits)) | out2\n",
    "            text += chr(out3)\n",
    "            bits -= 2\n",
    "            \n",
    "    print (text)\n"
   ]
  },
  {
   "cell_type": "code",
   "execution_count": 5,
   "metadata": {
    "collapsed": false
   },
   "outputs": [
    {
     "name": "stdout",
     "output_type": "stream",
     "text": [
      "cross and internship division thirteen tables six thirty0123\n"
     ]
    }
   ],
   "source": [
    "s = 'Y3Jvc3MgYW5kIGludGVybnNoaXAgZGl2aXNpb24gdGhpcnRlZW4gdGFibGVzIHNpeCB0aGlydHkwMTIz'\n",
    "decode(s)"
   ]
  },
  {
   "cell_type": "code",
   "execution_count": null,
   "metadata": {
    "collapsed": true
   },
   "outputs": [],
   "source": []
  }
 ],
 "metadata": {
  "kernelspec": {
   "display_name": "Python 2",
   "language": "python",
   "name": "python2"
  },
  "language_info": {
   "codemirror_mode": {
    "name": "ipython",
    "version": 2
   },
   "file_extension": ".py",
   "mimetype": "text/x-python",
   "name": "python",
   "nbconvert_exporter": "python",
   "pygments_lexer": "ipython2",
   "version": "2.7.11"
  }
 },
 "nbformat": 4,
 "nbformat_minor": 0
}
